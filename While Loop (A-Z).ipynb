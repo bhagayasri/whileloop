{
 "cells": [
  {
   "cell_type": "code",
   "execution_count": 10,
   "id": "20c067fb",
   "metadata": {},
   "outputs": [
    {
     "name": "stdout",
     "output_type": "stream",
     "text": [
      "       *    \n",
      "    *     *  \n",
      "   *       *  \n",
      "   ********** \n",
      " *            *\n",
      "*              *\n"
     ]
    }
   ],
   "source": [
    "a=1\n",
    "while a<=6:\n",
    "    if a==1:\n",
    "        print(\"       *    \")\n",
    "    elif a==2:\n",
    "        print(\"    *     *  \")\n",
    "    elif a==3:\n",
    "        print(\"   *       *  \")\n",
    "    elif a==4:\n",
    "        print(\"   ********** \")\n",
    "    elif a==5:\n",
    "        print(\" *            *\")\n",
    "    elif a==6:\n",
    "        print(\"*              *\")\n",
    "    a=a+1"
   ]
  },
  {
   "cell_type": "code",
   "execution_count": 1,
   "id": "2bce5911",
   "metadata": {},
   "outputs": [
    {
     "name": "stdout",
     "output_type": "stream",
     "text": [
      "*****\n",
      "*     *\n",
      "*     *\n",
      "*****\n",
      "*     *\n",
      "*     *\n",
      "*****\n"
     ]
    }
   ],
   "source": [
    "a=1\n",
    "while  a<=7:\n",
    "    if a==1:\n",
    "        print(\"*****\")\n",
    "    elif a==2:\n",
    "        print(\"*     *\")\n",
    "    elif a==3:\n",
    "        print(\"*     *\")\n",
    "    elif a==4:\n",
    "        print(\"*****\")\n",
    "    elif a==5: \n",
    "        print(\"*     *\")\n",
    "    elif a==6:\n",
    "        print(\"*     *\")\n",
    "    elif a==7:\n",
    "        print(\"*****\")\n",
    "    a=a+1 "
   ]
  },
  {
   "cell_type": "code",
   "execution_count": 16,
   "id": "32de0071",
   "metadata": {},
   "outputs": [
    {
     "name": "stdout",
     "output_type": "stream",
     "text": [
      " *****\n",
      "*\n",
      "*\n",
      "*\n",
      " *****\n"
     ]
    }
   ],
   "source": [
    "a=1\n",
    "while a<=5:\n",
    "    if a==1:\n",
    "        print(\" *****\")\n",
    "    elif a==2:\n",
    "        print(\"*\")\n",
    "    elif a==3:\n",
    "        print(\"*\")\n",
    "    elif a==4:\n",
    "        print(\"*\")\n",
    "    elif a==5:\n",
    "        print(\" *****\")\n",
    "    a=a+1\n",
    "        "
   ]
  },
  {
   "cell_type": "code",
   "execution_count": 17,
   "id": "572267e1",
   "metadata": {},
   "outputs": [
    {
     "name": "stdout",
     "output_type": "stream",
     "text": [
      "*****\n",
      "*\n",
      "*****\n",
      "*\n",
      "*****\n"
     ]
    }
   ],
   "source": [
    "a=1\n",
    "while a<=5:\n",
    "    if a==1:\n",
    "        print(\"*****\")\n",
    "    elif a==2:\n",
    "        print(\"*\")\n",
    "    elif a==3:\n",
    "        print(\"*****\")\n",
    "    elif a==4:\n",
    "        print(\"*\")\n",
    "    elif a==5:\n",
    "        print(\"*****\")\n",
    "    a=a+1"
   ]
  },
  {
   "cell_type": "code",
   "execution_count": 2,
   "id": "0c80e3e0",
   "metadata": {},
   "outputs": [
    {
     "name": "stdout",
     "output_type": "stream",
     "text": [
      " ***\n",
      "*    *\n",
      "*     *\n",
      "*    *\n",
      " ***\n"
     ]
    }
   ],
   "source": [
    "a=1\n",
    "while a<=5:\n",
    "    if a==1:\n",
    "        print(\" ***\")\n",
    "    elif a==2:\n",
    "        print(\"*    *\")\n",
    "    elif a==3:\n",
    "        print(\"*     *\")\n",
    "    elif a==4: \n",
    "        print(\"*    *\")\n",
    "    elif a==5:\n",
    "        print(\" ***\")\n",
    "    a=a+1      "
   ]
  },
  {
   "cell_type": "code",
   "execution_count": 3,
   "id": "8898f7c4",
   "metadata": {},
   "outputs": [
    {
     "name": "stdout",
     "output_type": "stream",
     "text": [
      "****\n",
      "*\n",
      "****\n",
      "*\n",
      "*\n"
     ]
    }
   ],
   "source": [
    "a=1\n",
    "while a<=5:\n",
    "    if a==1:\n",
    "        print(\"****\")\n",
    "    elif a==2:\n",
    "        print(\"*\")\n",
    "    elif a==3:\n",
    "        print(\"****\")\n",
    "    elif a==4:\n",
    "        print(\"*\")\n",
    "    elif a==5:\n",
    "        print(\"*\")\n",
    "    a=a+1"
   ]
  },
  {
   "cell_type": "code",
   "execution_count": 9,
   "id": "b92a8d94",
   "metadata": {},
   "outputs": [
    {
     "name": "stdout",
     "output_type": "stream",
     "text": [
      "  ***\n",
      "*    ***\n",
      " **\n",
      "       *\n",
      "       *\n"
     ]
    }
   ],
   "source": [
    "a=1\n",
    "while a<=5:\n",
    "    if a==1:\n",
    "        print(\"  ***\")\n",
    "    elif a==2:\n",
    "        print(\"*    ***\")\n",
    "    elif a==3:\n",
    "        print(\" **\")\n",
    "    elif a==4:\n",
    "        print(\"       *\")\n",
    "    elif a==5:\n",
    "        print(\"       *\")\n",
    "    a=a+1"
   ]
  },
  {
   "cell_type": "code",
   "execution_count": 12,
   "id": "7dd1e629",
   "metadata": {},
   "outputs": [
    {
     "name": "stdout",
     "output_type": "stream",
     "text": [
      "*    *\n",
      "*    *\n",
      "******\n",
      "*    *\n",
      "*    *\n"
     ]
    }
   ],
   "source": [
    "a=1\n",
    "while a<=5:\n",
    "    if a==1:\n",
    "        print(\"*    *\")\n",
    "    elif a==2:\n",
    "        print(\"*    *\")\n",
    "    elif a==3:\n",
    "        print(\"******\")\n",
    "    elif a==4:\n",
    "        print(\"*    *\")\n",
    "    elif a==5:\n",
    "        print(\"*    *\")\n",
    "    a=a+1"
   ]
  },
  {
   "cell_type": "code",
   "execution_count": 13,
   "id": "a3a7a2d7",
   "metadata": {},
   "outputs": [
    {
     "name": "stdout",
     "output_type": "stream",
     "text": [
      "*******\n",
      "   *   \n",
      "   *   \n",
      "   *   \n",
      "*******\n"
     ]
    }
   ],
   "source": [
    "a=1\n",
    "while a<=5:\n",
    "    if a==1:\n",
    "        print(\"*******\")\n",
    "    elif a==2:\n",
    "        print(\"   *   \")\n",
    "    elif a==3:\n",
    "        print(\"   *   \")\n",
    "    elif a==4:\n",
    "        print(\"   *   \")\n",
    "    elif a==5:\n",
    "        print(\"*******\")\n",
    "    a=a+1"
   ]
  },
  {
   "cell_type": "code",
   "execution_count": 21,
   "id": "40b5c9a0",
   "metadata": {},
   "outputs": [
    {
     "name": "stdout",
     "output_type": "stream",
     "text": [
      "******\n",
      "   * \n",
      "   * \n",
      "   * \n",
      "*** \n"
     ]
    }
   ],
   "source": [
    "a=1\n",
    "while a<=5:\n",
    "    if a==1:\n",
    "        print(\"******\")\n",
    "    elif a==2:\n",
    "        print(\"   * \")     \n",
    "    elif a==3:\n",
    "        print(\"   * \")\n",
    "    elif a==4:\n",
    "        print(\"   * \")\n",
    "    elif a==5:\n",
    "        print(\"*** \")\n",
    "    a=a+1"
   ]
  },
  {
   "cell_type": "code",
   "execution_count": 1,
   "id": "f20c5f58",
   "metadata": {},
   "outputs": [
    {
     "name": "stdout",
     "output_type": "stream",
     "text": [
      "*   \n",
      "*   * \n",
      "* *\n",
      "**\n",
      "* *\n",
      "*   *\n",
      "*\n"
     ]
    }
   ],
   "source": [
    "a=1\n",
    "while a<=7:\n",
    "    if a==1:\n",
    "        print(\"*   \")\n",
    "    elif a==2:\n",
    "        print(\"*   * \")\n",
    "    elif a==3:\n",
    "        print(\"* *\")\n",
    "    elif a==4:\n",
    "        print(\"**\")\n",
    "    elif a==5:\n",
    "        print(\"* *\")\n",
    "    elif a==6:\n",
    "        print(\"*   *\")\n",
    "    elif a==7:\n",
    "        print(\"*\")\n",
    "    a=a+1"
   ]
  },
  {
   "cell_type": "code",
   "execution_count": 4,
   "id": "d28b431e",
   "metadata": {},
   "outputs": [
    {
     "name": "stdout",
     "output_type": "stream",
     "text": [
      "*\n",
      "*\n",
      "*\n",
      "*\n",
      "********\n"
     ]
    }
   ],
   "source": [
    "a=1\n",
    "while a<=5:\n",
    "    if a==1:\n",
    "        print(\"*\")\n",
    "    elif a==2:\n",
    "        print(\"*\")\n",
    "    elif a==3:\n",
    "        print(\"*\")\n",
    "    elif a==4:\n",
    "        print(\"*\")\n",
    "    elif a==5:\n",
    "        print(\"********\")\n",
    "    a=a+1\n",
    "        "
   ]
  },
  {
   "cell_type": "code",
   "execution_count": 8,
   "id": "da39f755",
   "metadata": {},
   "outputs": [
    {
     "name": "stdout",
     "output_type": "stream",
     "text": [
      "*          *\n",
      "* *      * *\n",
      "*    *     *\n",
      "*          *\n",
      "*          *\n"
     ]
    }
   ],
   "source": [
    "a=1\n",
    "while a<=5:\n",
    "    if a==1:\n",
    "        print(\"*          *\")\n",
    "    elif a==2:\n",
    "        print(\"* *      * *\")\n",
    "    elif a==3:\n",
    "        print(\"*    *     *\")\n",
    "    elif a==4:\n",
    "        print(\"*          *\")\n",
    "    elif a==5:\n",
    "        print(\"*          *\")\n",
    "    a=a+1   \n",
    "    "
   ]
  },
  {
   "cell_type": "code",
   "execution_count": 5,
   "id": "e8aea4d6",
   "metadata": {},
   "outputs": [
    {
     "name": "stdout",
     "output_type": "stream",
     "text": [
      "**       *\n",
      "* *      *\n",
      "*   *    *\n",
      "*    *   *\n",
      "*     *  *\n",
      "*       **\n"
     ]
    }
   ],
   "source": [
    "a=1\n",
    "while a<=6:\n",
    "    if a==1:\n",
    "        print(\"**       *\")\n",
    "    elif a==2:\n",
    "        print(\"* *      *\")\n",
    "    elif a==3:\n",
    "        print(\"*   *    *\")\n",
    "    elif a==4:\n",
    "        print(\"*    *   *\")\n",
    "    elif a==5:\n",
    "        print(\"*     *  *\")\n",
    "    elif a==6:\n",
    "        print(\"*       **\")\n",
    "    a=a+1"
   ]
  },
  {
   "cell_type": "code",
   "execution_count": 1,
   "id": "6a132e95",
   "metadata": {},
   "outputs": [
    {
     "name": "stdout",
     "output_type": "stream",
     "text": [
      " ***** \n",
      "*     *\n",
      "*     *\n",
      "*     *\n",
      "*     *\n",
      "*     *\n",
      "*     *\n",
      " ***** \n"
     ]
    }
   ],
   "source": [
    "a=1\n",
    "while a<=8:\n",
    "    if a==1:\n",
    "        print(\" ***** \")\n",
    "    elif a==2:\n",
    "        print(\"*     *\")\n",
    "    elif a==3:\n",
    "        print(\"*     *\")\n",
    "    elif a==4:\n",
    "        print(\"*     *\")\n",
    "    elif a==5:\n",
    "        print(\"*     *\")\n",
    "    elif a==6:\n",
    "        print(\"*     *\")\n",
    "    elif a==7:\n",
    "        print(\"*     *\")\n",
    "    elif a==8:\n",
    "        print(\" ***** \")\n",
    "    a=a+1"
   ]
  },
  {
   "cell_type": "code",
   "execution_count": 6,
   "id": "546a4a0a",
   "metadata": {},
   "outputs": [
    {
     "name": "stdout",
     "output_type": "stream",
     "text": [
      " **** \n",
      "*    *\n",
      "*    *\n",
      "* * *\n",
      "*\n",
      "*\n",
      "*\n",
      "*\n"
     ]
    }
   ],
   "source": [
    "a=1\n",
    "while a<=8:\n",
    "    if a==1:\n",
    "        print(\" **** \")\n",
    "    elif a==2:\n",
    "        print(\"*    *\")\n",
    "    elif a==3:\n",
    "        print(\"*    *\")\n",
    "    elif a==4:\n",
    "        print(\"* * *\")\n",
    "    elif a==5:\n",
    "        print(\"*\")\n",
    "    elif a==6:\n",
    "        print(\"*\")\n",
    "    elif a==7:\n",
    "        print(\"*\")\n",
    "    elif a==8:\n",
    "        print(\"*\")\n",
    "    a=a+1"
   ]
  },
  {
   "cell_type": "code",
   "execution_count": 32,
   "id": "ce73c512",
   "metadata": {},
   "outputs": [
    {
     "name": "stdout",
     "output_type": "stream",
     "text": [
      " ***** \n",
      "*      *\n",
      "*   *  *\n",
      "*      * \n",
      " ******\n",
      "       * \n",
      "       *\n",
      "       ***\n"
     ]
    }
   ],
   "source": [
    "a=1\n",
    "while a<=8:\n",
    "    if a==1:\n",
    "        print(\" ***** \")\n",
    "    elif a==2:\n",
    "        print(\"*      *\")\n",
    "    elif a==3:\n",
    "        print(\"*   *  *\")\n",
    "    elif a==4:\n",
    "        print(\"*      * \")\n",
    "    elif a==5:\n",
    "        print(\" ******\")\n",
    "    elif a==6:\n",
    "        print(\"       * \")\n",
    "    elif a==7:\n",
    "        print(\"       *\")\n",
    "    elif a==8:\n",
    "        print(\"       ***\")\n",
    "    a=a+1"
   ]
  },
  {
   "cell_type": "code",
   "execution_count": 3,
   "id": "19ffd9a7",
   "metadata": {},
   "outputs": [
    {
     "name": "stdout",
     "output_type": "stream",
     "text": [
      " ***** \n",
      "*     *\n",
      "*    *\n",
      "*   *\n",
      "****\n",
      "*    *\n",
      "*      *\n",
      "*       *\n",
      "*        *\n"
     ]
    }
   ],
   "source": [
    "a=1\n",
    "while a<=10:\n",
    "    if a==1:\n",
    "        print(\" ***** \")\n",
    "    elif a==2:\n",
    "        print(\"*     *\")\n",
    "    elif a==3:\n",
    "        print(\"*    *\")\n",
    "    elif a==4:\n",
    "        print(\"*   *\")\n",
    "    elif a==5:\n",
    "        print(\"****\")\n",
    "    elif a==7:\n",
    "        print(\"*    *\")\n",
    "    elif a==8:\n",
    "        print(\"*      *\")\n",
    "    elif a==9:\n",
    "        print(\"*       *\")\n",
    "    elif a==10:\n",
    "        print(\"*        *\")\n",
    "    a=a+1\n",
    "    "
   ]
  },
  {
   "cell_type": "code",
   "execution_count": 10,
   "id": "9942a68c",
   "metadata": {},
   "outputs": [
    {
     "name": "stdout",
     "output_type": "stream",
     "text": [
      " **** \n",
      "*\n",
      "*\n",
      " *** \n",
      "    *\n",
      "    *\n",
      "**** \n"
     ]
    }
   ],
   "source": [
    "a=1\n",
    "while a<=7:\n",
    "    if a==1:\n",
    "        print(\" **** \")\n",
    "    elif a==2:\n",
    "        print(\"*\")\n",
    "    elif a==3:\n",
    "        print(\"*\")\n",
    "    elif a==4:\n",
    "        print(\" *** \")\n",
    "    elif a==5:\n",
    "        print(\"    *\")\n",
    "    elif a==6:\n",
    "        print(\"    *\")\n",
    "    elif a==7:\n",
    "        print(\"**** \")\n",
    "    a=a+1\n",
    "        \n",
    "        "
   ]
  },
  {
   "cell_type": "code",
   "execution_count": 3,
   "id": "10f94853",
   "metadata": {},
   "outputs": [
    {
     "name": "stdout",
     "output_type": "stream",
     "text": [
      "*******\n",
      "   *    \n",
      "   *    \n",
      "   *    \n",
      "   *    \n",
      "   *    \n"
     ]
    }
   ],
   "source": [
    "a=1\n",
    "while a<=6:\n",
    "    if a==1:\n",
    "        print(\"*******\")\n",
    "    elif a==2:\n",
    "        print(\"   *    \")\n",
    "    elif a==3:\n",
    "        print(\"   *    \")\n",
    "    elif a==4:\n",
    "        print(\"   *    \")\n",
    "    elif a==5:\n",
    "        print(\"   *    \")\n",
    "    elif a==6:\n",
    "        print(\"   *    \")\n",
    "    a=a+1"
   ]
  },
  {
   "cell_type": "code",
   "execution_count": 5,
   "id": "2db0c016",
   "metadata": {},
   "outputs": [
    {
     "name": "stdout",
     "output_type": "stream",
     "text": [
      "*      *\n",
      "*      *\n",
      "*      *\n",
      "*      *\n",
      " ****** \n"
     ]
    }
   ],
   "source": [
    "a=1\n",
    "while a<=5:\n",
    "    if a==1:\n",
    "        print(\"*      *\")\n",
    "    elif a==2:\n",
    "        print(\"*      *\")\n",
    "    elif a==3:\n",
    "        print(\"*      *\")\n",
    "    elif a==4:\n",
    "        print(\"*      *\")\n",
    "    elif a==5:\n",
    "        print(\" ****** \")\n",
    "    a=a+1"
   ]
  },
  {
   "cell_type": "code",
   "execution_count": 28,
   "id": "4432c5ac",
   "metadata": {},
   "outputs": [
    {
     "name": "stdout",
     "output_type": "stream",
     "text": [
      "*          *\n",
      " *        *\n",
      "  *      *\n",
      "    *   *  \n",
      "      *  \n"
     ]
    }
   ],
   "source": [
    "a=1\n",
    "while a<=5:\n",
    "    if a==1:\n",
    "        print(\"*          *\")\n",
    "    elif a==2:\n",
    "        print(\" *        *\")\n",
    "    elif a==2:\n",
    "        print(\"  *        *\")\n",
    "    elif a==3:\n",
    "        print(\"  *      *\")\n",
    "    elif a==4:\n",
    "        print(\"    *   *  \")\n",
    "    elif a==5:\n",
    "        print(\"      *  \")\n",
    "    a=a+1\n",
    "        "
   ]
  },
  {
   "cell_type": "code",
   "execution_count": 58,
   "id": "a1747d79",
   "metadata": {},
   "outputs": [
    {
     "name": "stdout",
     "output_type": "stream",
     "text": [
      "*          *            * \n",
      "*        *   *         *\n",
      " *     *      *       * \n",
      "  *   *         *    *  \n",
      "    *              * \n"
     ]
    }
   ],
   "source": [
    "a=1\n",
    "while a<=5:\n",
    "    if a==1:\n",
    "        print(\"*          *            * \")\n",
    "    elif a==2:\n",
    "        print(\"*        *   *         *\")\n",
    "    elif a==3:\n",
    "        print(\" *     *      *       * \")\n",
    "    elif a==4:\n",
    "        print(\"  *   *         *    *  \")\n",
    "    elif a==5:\n",
    "        print(\"    *              * \") \n",
    "    a=a+1\n"
   ]
  },
  {
   "cell_type": "code",
   "execution_count": 72,
   "id": "1681b826",
   "metadata": {},
   "outputs": [
    {
     "name": "stdout",
     "output_type": "stream",
     "text": [
      " *           *\n",
      "   *      *  \n",
      "       *      \n",
      "   *      *  \n",
      "*            *\n"
     ]
    }
   ],
   "source": [
    "a=1\n",
    "while a<=5:\n",
    "    if a==1:\n",
    "        print(\" *           *\")\n",
    "    elif a==2:\n",
    "        print(\"   *      *  \")\n",
    "    elif a==3:\n",
    "        print(\"       *      \")\n",
    "    elif a==4:\n",
    "        print(\"   *      *  \")\n",
    "    elif a==5:\n",
    "        print(\"*            *\")\n",
    "    a=a+1"
   ]
  },
  {
   "cell_type": "code",
   "execution_count": 80,
   "id": "45c9ac69",
   "metadata": {},
   "outputs": [
    {
     "name": "stdout",
     "output_type": "stream",
     "text": [
      "*        *\n",
      " *      * \n",
      "  *    * \n",
      "     *   \n",
      "     *   \n",
      "     *   \n"
     ]
    }
   ],
   "source": [
    "a=1\n",
    "while a<=6:\n",
    "    if a==1:\n",
    "        print(\"*        *\")\n",
    "    elif a==2:\n",
    "        print(\" *      * \")\n",
    "    elif a==3:\n",
    "        print(\"  *    * \")\n",
    "    elif a==4:\n",
    "        print(\"     *   \")\n",
    "    elif a==5:\n",
    "        print(\"     *   \")\n",
    "    elif a==6:\n",
    "        print(\"     *   \")\n",
    "    a=a+1"
   ]
  },
  {
   "cell_type": "code",
   "execution_count": 82,
   "id": "c8bd1cb8",
   "metadata": {},
   "outputs": [
    {
     "name": "stdout",
     "output_type": "stream",
     "text": [
      "******\n",
      "    *\n",
      "   *\n",
      "  *\n",
      " ******\n"
     ]
    }
   ],
   "source": [
    "a=1\n",
    "while a<=5:\n",
    "    if a==1:\n",
    "        print(\"******\")\n",
    "    elif a==2:\n",
    "        print(\"    *\")\n",
    "    elif a==3:\n",
    "        print(\"   *\")\n",
    "    elif a==4:\n",
    "        print(\"  *\")\n",
    "    elif a==5:\n",
    "        print(\" ******\")\n",
    "    a=a+1"
   ]
  },
  {
   "cell_type": "code",
   "execution_count": null,
   "id": "d9162431",
   "metadata": {},
   "outputs": [],
   "source": []
  }
 ],
 "metadata": {
  "kernelspec": {
   "display_name": "Python 3 (ipykernel)",
   "language": "python",
   "name": "python3"
  },
  "language_info": {
   "codemirror_mode": {
    "name": "ipython",
    "version": 3
   },
   "file_extension": ".py",
   "mimetype": "text/x-python",
   "name": "python",
   "nbconvert_exporter": "python",
   "pygments_lexer": "ipython3",
   "version": "3.9.13"
  }
 },
 "nbformat": 4,
 "nbformat_minor": 5
}
